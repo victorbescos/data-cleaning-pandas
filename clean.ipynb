{
 "cells": [
  {
   "cell_type": "code",
   "execution_count": 259,
   "id": "10cf547d",
   "metadata": {},
   "outputs": [],
   "source": [
    "import pandas as pd\n",
    "import seaborn as sns\n",
    "import matplotlib.pyplot as plt\n",
    "import re"
   ]
  },
  {
   "cell_type": "code",
   "execution_count": 260,
   "id": "20bc71ef",
   "metadata": {},
   "outputs": [],
   "source": [
    "attacks = pd.read_csv(\"../project_1/data/attacks.csv\", encoding='latin1')"
   ]
  },
  {
   "cell_type": "code",
   "execution_count": 255,
   "id": "e31b0faf",
   "metadata": {},
   "outputs": [],
   "source": [
    "class clean(): \n",
    "        \n",
    "    def __init__ (self, attacks):\n",
    "        self.attacks = attacks\n",
    "        \n",
    "    def drop_columns (self): \n",
    "        drop_cols = [\"href formula\", \"href\", \"pdf\", \n",
    "                    \"Investigator or Source\", \"Unnamed: 22\", \"Unnamed: 23\", \n",
    "                    \"Location\", \"Area\", \"Time\", \"Case Number.1\", \n",
    "                     \"Case Number.2\", \"Case Number\", \"Date\"]\n",
    "            \n",
    "        self.attacks = self.attacks.drop(drop_cols, axis=1)\n",
    "    \n",
    "    def drop_rows (self):\n",
    "        self.attacks = self.attacks.drop_duplicates()\n",
    "        self.attacks = self.attacks.dropna(thresh=10) \n",
    "        \n",
    "    def fatal_clean (self): \n",
    "        replace_fatal = {\" N\": \"N\", \"N \": \"N\", 'y': 'Y', \"M\" : \"UNKNOWN\", \"2017\" : \"UNKNOWN\"}\n",
    "        \n",
    "        self.attacks[\"Fatal (Y/N)\"] = self.attacks[\"Fatal (Y/N)\"].replace(replace_fatal)\n",
    "        \n",
    "    def species_clean (self): \n",
    "        \n",
    "        pattern = r'\\b(white|tiger|hammerhead|mako|bull|blacktip|wobbegong|blue|nurse|lemon|whale|spinner|whaler|silky|whitetip|basking|dusky|leopard|grey|raggedtooth|reef|zambesi|whitetip)\\b'\n",
    "        \n",
    "        self.attacks[\"Species \"] = self.attacks[\"Species \"].str.lower()\n",
    "        \n",
    "        self.attacks[\"Shark Type\"] = self.attacks[\"Species \"].str.extract(pattern, flags=re.I)\n",
    "        \n",
    "        "
   ]
  },
  {
   "cell_type": "code",
   "execution_count": 262,
   "id": "7ed414a0",
   "metadata": {},
   "outputs": [
    {
     "name": "stdout",
     "output_type": "stream",
     "text": [
      "Stored 'df' (DataFrame)\n"
     ]
    }
   ],
   "source": [
    "cleaner = clean(attacks)\n",
    "\n",
    "cleaner.drop_columns()\n",
    "cleaner.drop_rows()\n",
    "cleaner.fatal_clean()\n",
    "cleaner.species_clean()\n",
    "\n",
    "df = cleaner.attacks\n",
    "\n",
    "%store df\n"
   ]
  }
 ],
 "metadata": {
  "kernelspec": {
   "display_name": "ironhack",
   "language": "python",
   "name": "ironhack"
  },
  "language_info": {
   "codemirror_mode": {
    "name": "ipython",
    "version": 3
   },
   "file_extension": ".py",
   "mimetype": "text/x-python",
   "name": "python",
   "nbconvert_exporter": "python",
   "pygments_lexer": "ipython3",
   "version": "3.11.5"
  }
 },
 "nbformat": 4,
 "nbformat_minor": 5
}
