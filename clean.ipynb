{
 "cells": [
  {
   "cell_type": "code",
   "execution_count": 1,
   "id": "10cf547d",
   "metadata": {},
   "outputs": [],
   "source": [
    "import pandas as pd\n",
    "import seaborn as sns\n",
    "import matplotlib.pyplot as plt\n",
    "import re"
   ]
  },
  {
   "cell_type": "code",
   "execution_count": 239,
   "id": "20bc71ef",
   "metadata": {},
   "outputs": [],
   "source": [
    "attacks = pd.read_csv(\"../project_1/data/attacks.csv\", encoding='latin1')"
   ]
  },
  {
   "cell_type": "code",
   "execution_count": 221,
   "id": "e31b0faf",
   "metadata": {},
   "outputs": [],
   "source": [
    "class clean(): \n",
    "        \n",
    "    def __init__ (self, attacks):\n",
    "        self.attacks = attacks\n",
    "        \n",
    "    def drop_columns (self): \n",
    "        drop_cols = [\"href formula\", \"href\", \"pdf\", \n",
    "                    \"Investigator or Source\", \"Unnamed: 22\", \"Unnamed: 23\", \n",
    "                    \"Location\", \"Area\", \"Time\", \"Case Number.1\", \n",
    "                     \"Case Number.2\", \"Case Number\", \"Date\"]\n",
    "            \n",
    "        self.attacks = self.attacks.drop(drop_cols, axis=1)\n",
    "    \n",
    "    def drop_rows (self):\n",
    "        self.attacks = self.attacks.drop_duplicates()\n",
    "        \n",
    "    def fatal_clean (self): \n",
    "        replace_fatal = {\" N\": \"N\", \"N \": \"N\", 'y': 'Y', \"M\" : \"UNKNOWN\", \"2017\" : \"UNKNOWN\"}\n",
    "        \n",
    "        self.attacks[\"Fatal (Y/N)\"] = self.attacks[\"Fatal (Y/N)\"].replace(replace_fatal)\n",
    "        \n",
    "    def species_clean (self): \n",
    "        pattern = r'\\b(white|tiger|hammerhead|mako|bull|blacktip|wobbegong|blue|nurse|lemon|whale|bronze|spinner|whaler|silky|whitetip|basking|dusky|leopard|grey)\\b'\n",
    "        \n",
    "        self.attacks[\"Species \"] = self.attacks[\"Species \"].str.lower()\n",
    "        \n",
    "        self.attacks[\"Shark Type\"] = self.attacks[\"Species \"].str.extract(pattern, flags=re.I)\n",
    "        \n",
    "       "
   ]
  },
  {
   "cell_type": "code",
   "execution_count": 222,
   "id": "7ed414a0",
   "metadata": {},
   "outputs": [],
   "source": [
    "cleaner = clean(attacks)\n",
    "\n",
    "cleaner.drop_columns()\n",
    "cleaner.drop_rows()\n",
    "cleaner.fatal_clean()\n",
    "cleaner.species_clean()\n",
    "\n",
    "df = cleaner.attacks"
   ]
  },
  {
   "cell_type": "code",
   "execution_count": 238,
   "id": "5f99c07e",
   "metadata": {},
   "outputs": [],
   "source": [
    "species_counts = df[\"Shark Type\"].value_counts()\n",
    "\n",
    "species_most = species_counts.head(10)\n",
    "\n",
    "df_common = df[df[\"Shark Type\"].isin(species_most.index)]\n"
   ]
  },
  {
   "cell_type": "code",
   "execution_count": 237,
   "id": "a561a535",
   "metadata": {},
   "outputs": [
    {
     "data": {
      "image/png": "[encoded data removed]",
      "text/plain": [
       "<Figure size 640x480 with 1 Axes>"
      ]
     },
     "metadata": {},
     "output_type": "display_data"
    }
   ],
   "source": [
    "sns.set(font_scale = 0.8)\n",
    "\n",
    "sns.countplot(x=\"Shark Type\", hue = \"Fatal (Y/N)\", data = df_common, dodge = False,  \n",
    "              order = df_common[\"Shark Type\"].value_counts().index);\n"
   ]
  },
  {
   "cell_type": "code",
   "execution_count": null,
   "id": "44efd9f1",
   "metadata": {},
   "outputs": [],
   "source": []
  },
  {
   "cell_type": "code",
   "execution_count": null,
   "id": "46d47eac",
   "metadata": {},
   "outputs": [],
   "source": []
  },
  {
   "cell_type": "code",
   "execution_count": null,
   "id": "86811f13",
   "metadata": {},
   "outputs": [],
   "source": []
  }
 ],
 "metadata": {
  "kernelspec": {
   "display_name": "ironhack",
   "language": "python",
   "name": "ironhack"
  },
  "language_info": {
   "codemirror_mode": {
    "name": "ipython",
    "version": 3
   },
   "file_extension": ".py",
   "mimetype": "text/x-python",
   "name": "python",
   "nbconvert_exporter": "python",
   "pygments_lexer": "ipython3",
   "version": "3.11.5"
  }
 },
 "nbformat": 4,
 "nbformat_minor": 5
}
